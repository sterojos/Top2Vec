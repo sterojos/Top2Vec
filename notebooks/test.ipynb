{
 "cells": [
  {
   "cell_type": "code",
   "execution_count": 1,
   "metadata": {},
   "outputs": [],
   "source": [
    "class TestClass:\n",
    "    pass"
   ]
  },
  {
   "cell_type": "code",
   "execution_count": 3,
   "metadata": {},
   "outputs": [],
   "source": [
    "a = TestClass()\n",
    "a.__setattr__(\"attr\", 3)"
   ]
  },
  {
   "cell_type": "code",
   "execution_count": 6,
   "metadata": {},
   "outputs": [
    {
     "data": {
      "text/plain": [
       "3"
      ]
     },
     "execution_count": 6,
     "metadata": {},
     "output_type": "execute_result"
    }
   ],
   "source": [
    "a.attr"
   ]
  },
  {
   "cell_type": "code",
   "execution_count": 1,
   "metadata": {},
   "outputs": [],
   "source": [
    "import random\n",
    "\n",
    "def generate_docs(length=50, rep=20):\n",
    "    vocabs = [\n",
    "        [\"lorem\", \"ipsum\", \"dolor\"],\n",
    "        [\"lorem\", \"sit\", \"amet\"],\n",
    "        [\"lorem\", \"sit\", \"adipiscing\", \"eiusmod\"],\n",
    "        [\"lorem\", \"consectetur\", \"adipiscing\"],\n",
    "        [\"lorem\", \"consectetur\", \"elit\"],\n",
    "        [\"lorem\", \"consectetur\", \"eiusmod\"],\n",
    "        [\"lorem\", \"consectetur\", \"eiusmod\"],\n",
    "    ]\n",
    "\n",
    "    return [\" \".join(random.choice(vocab) for _ in range(length)) for _ in range(rep) for vocab in vocabs] * 20"
   ]
  },
  {
   "cell_type": "code",
   "execution_count": 2,
   "metadata": {},
   "outputs": [
    {
     "name": "stderr",
     "output_type": "stream",
     "text": [
      "2024-03-04 10:54:52.278711: E tensorflow/compiler/xla/stream_executor/cuda/cuda_dnn.cc:9342] Unable to register cuDNN factory: Attempting to register factory for plugin cuDNN when one has already been registered\n",
      "2024-03-04 10:54:52.278735: E tensorflow/compiler/xla/stream_executor/cuda/cuda_fft.cc:609] Unable to register cuFFT factory: Attempting to register factory for plugin cuFFT when one has already been registered\n",
      "2024-03-04 10:54:52.278748: E tensorflow/compiler/xla/stream_executor/cuda/cuda_blas.cc:1518] Unable to register cuBLAS factory: Attempting to register factory for plugin cuBLAS when one has already been registered\n",
      "2024-03-04 10:54:52.282597: I tensorflow/core/platform/cpu_feature_guard.cc:182] This TensorFlow binary is optimized to use available CPU instructions in performance-critical operations.\n",
      "To enable the following instructions: AVX2 FMA, in other operations, rebuild TensorFlow with the appropriate compiler flags.\n"
     ]
    }
   ],
   "source": [
    "from top2vec_modified import Top2Vec\n",
    "import yaml\n",
    "\n",
    "#with open(\"top2vec_modified/Top2Vec_config.yaml\") as f:\n",
    "#    config = yaml.safe_load(f)\n",
    "\n",
    "docs = generate_docs()\n",
    "\n",
    "#config.update({\"use_pacmap\": True, \"dimred_args\": {}})\n",
    "#config.update({\"embedding_model\": \"universal-sentence-encoder\"})\n",
    "\n",
    "#model = Top2Vec(documents=docs, **config, plain=False)"
   ]
  },
  {
   "cell_type": "code",
   "execution_count": 6,
   "metadata": {},
   "outputs": [
    {
     "name": "stderr",
     "output_type": "stream",
     "text": [
      "2024-03-04 10:56:07,449 - top2vec - INFO - Pre-processing documents for training\n",
      "2024-03-04 10:56:07,628 - top2vec - INFO - Creating joint document/word embedding\n",
      "2024-03-04 10:56:10,107 - top2vec - INFO - Creating lower dimension embedding of documents\n",
      "2024-03-04 10:56:16,093 - top2vec - INFO - Finding dense areas of documents\n"
     ]
    }
   ],
   "source": [
    "\n",
    "a = Top2Vec.run(documents=docs, config_modifier={\"phases\": [\"create_embeddings\", \"reduce_dimension\"]})\n",
    "a.save(\"test_model.\")"
   ]
  },
  {
   "cell_type": "code",
   "execution_count": 1,
   "metadata": {},
   "outputs": [],
   "source": [
    "import yaml\n",
    "\n",
    "with open(\"top2vec_modified/Top2Vec_config.yaml\") as f:\n",
    "    a = yaml.safe_load(f)"
   ]
  },
  {
   "cell_type": "code",
   "execution_count": 3,
   "metadata": {},
   "outputs": [
    {
     "data": {
      "text/plain": [
       "['create_embeddings', 'reduce_dimension', 'discover_topics']"
      ]
     },
     "execution_count": 3,
     "metadata": {},
     "output_type": "execute_result"
    }
   ],
   "source": [
    "list(a[\"phases\"])"
   ]
  },
  {
   "cell_type": "code",
   "execution_count": 19,
   "metadata": {},
   "outputs": [
    {
     "data": {
      "text/plain": [
       "['ngram_vocab_args',\n",
       " 'embedding_model_path',\n",
       " 'dimred_args',\n",
       " 'keep_documents',\n",
       " 'chunk_overlap_ratio',\n",
       " 'workers',\n",
       " 'use_corpus_file',\n",
       " 'topic_merge_delta',\n",
       " 'hdbscan_args',\n",
       " 'verbose',\n",
       " 'sentencizer',\n",
       " 'document_ids',\n",
       " 'gpu_umap',\n",
       " 'document_chunker',\n",
       " 'embedding_batch_size',\n",
       " 'gpu_hdbscan',\n",
       " 'speed',\n",
       " 'index_topics',\n",
       " 'min_count',\n",
       " 'chunk_len_coverage_ratio',\n",
       " 'ngram_vocab',\n",
       " 'max_num_chunks',\n",
       " 'tokenizer',\n",
       " 'chunk_length',\n",
       " 'use_embedding_model_tokenizer',\n",
       " 'embedding_model']"
      ]
     },
     "execution_count": 19,
     "metadata": {},
     "output_type": "execute_result"
    }
   ],
   "source": [
    "phases = ['reduce_dimension', 'discover_topics']\n",
    "\n",
    "list(set([i for v in a[\"phases\"].values() for i in v]))"
   ]
  },
  {
   "cell_type": "code",
   "execution_count": 4,
   "metadata": {},
   "outputs": [
    {
     "data": {
      "text/plain": [
       "['a', 'b']"
      ]
     },
     "execution_count": 4,
     "metadata": {},
     "output_type": "execute_result"
    }
   ],
   "source": [
    "a = {\"a\": 1, \"b\": 2}\n",
    "b = list(a)\n",
    "a.update({\"c\": 3})\n",
    "b"
   ]
  },
  {
   "cell_type": "code",
   "execution_count": 5,
   "metadata": {},
   "outputs": [
    {
     "data": {
      "text/plain": [
       "'[1, 2, 3]'"
      ]
     },
     "execution_count": 5,
     "metadata": {},
     "output_type": "execute_result"
    }
   ],
   "source": [
    "f\"{[1, 2, 3]}\""
   ]
  }
 ],
 "metadata": {
  "kernelspec": {
   "display_name": "Python 3",
   "language": "python",
   "name": "python3"
  },
  "language_info": {
   "codemirror_mode": {
    "name": "ipython",
    "version": 3
   },
   "file_extension": ".py",
   "mimetype": "text/x-python",
   "name": "python",
   "nbconvert_exporter": "python",
   "pygments_lexer": "ipython3",
   "version": "3.9.2"
  },
  "orig_nbformat": 4,
  "vscode": {
   "interpreter": {
    "hash": "916dbcbb3f70747c44a77c7bcd40155683ae19c65e1c03b4aa3499c5328201f1"
   }
  }
 },
 "nbformat": 4,
 "nbformat_minor": 2
}
