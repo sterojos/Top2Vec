{
 "cells": [
  {
   "cell_type": "code",
   "execution_count": 4,
   "metadata": {},
   "outputs": [],
   "source": [
    "import random\n",
    "from top2vec_modified.Top2Vec import Top2Vec, default_tokenizer\n",
    "import yaml\n",
    "\n",
    "def generate_docs(length=50, rep=20):\n",
    "    vocabs = [\n",
    "        [\"lorem\", \"ipsum\", \"dolor\"],\n",
    "        [\"lorem\", \"sit\", \"amet\"],\n",
    "        [\"lorem\", \"sit\", \"adipiscing\", \"eiusmod\"],\n",
    "        [\"lorem\", \"consectetur\", \"adipiscing\"],\n",
    "        [\"lorem\", \"consectetur\", \"elit\"],\n",
    "        [\"lorem\", \"consectetur\", \"eiusmod\"],\n",
    "        [\"lorem\", \"consectetur\", \"eiusmod\"],\n",
    "    ]\n",
    "\n",
    "    return [\" \".join(random.choice(vocab) for _ in range(length)) for _ in range(rep) for vocab in vocabs]"
   ]
  },
  {
   "cell_type": "code",
   "execution_count": 4,
   "metadata": {},
   "outputs": [],
   "source": [
    "\n",
    "#with open(\"top2vec_modified/Top2Vec_config.yaml\") as f:\n",
    "#    config = yaml.safe_load(f)\n",
    "\n",
    "#docs = generate_docs()\n",
    "\n",
    "#config.update({\"use_pacmap\": True, \"dimred_args\": {}})\n",
    "#config.update({\"embedding_model\": \"universal-sentence-encoder\"})\n",
    "\n",
    "#model = Top2Vec(documents=docs, **config, plain=False)"
   ]
  },
  {
   "cell_type": "code",
   "execution_count": 44,
   "metadata": {},
   "outputs": [
    {
     "name": "stderr",
     "output_type": "stream",
     "text": [
      "2024-03-07 08:28:26,932 - top2vec - INFO - Pre-processing documents for training\n",
      "2024-03-07 08:28:27,026 - top2vec - INFO - Creating joint document/word embedding\n"
     ]
    }
   ],
   "source": [
    "docs = generate_docs(rep=80, length=100)\n",
    "a = Top2Vec.run(documents=docs, config_modifier={\"phases\": [\"create_embeddings\"]})\n",
    "a.save(\"test_model.model\")"
   ]
  },
  {
   "cell_type": "code",
   "execution_count": 45,
   "metadata": {},
   "outputs": [
    {
     "name": "stderr",
     "output_type": "stream",
     "text": [
      "2024-03-07 08:28:28,683 - top2vec - INFO - Creating lower dimension embedding of documents\n",
      "2024-03-07 08:28:30,565 - top2vec - INFO - Finding dense areas of documents\n",
      "2024-03-07 08:28:30,573 - top2vec - INFO - Finding topics\n"
     ]
    }
   ],
   "source": [
    "b = Top2Vec.run(from_model_path='test_model.model', config_modifier={\"phases\": [\"reduce_dimension\", \"discover_topics\"]})"
   ]
  },
  {
   "cell_type": "code",
   "execution_count": 46,
   "metadata": {},
   "outputs": [],
   "source": [
    "from gensim.models.doc2vec import Doc2Vec, TaggedDocument\n",
    "\n",
    "doc2vec_args = {\"vector_size\": 300,\n",
    "                \"min_count\": 5,\n",
    "                \"window\": 15,\n",
    "                \"sample\": 1e-5,\n",
    "                \"negative\": 0,\n",
    "                \"hs\": 1,\n",
    "                \"epochs\": 40,\n",
    "                \"dm\": 0,\n",
    "                \"dbow_words\": 1}\n",
    "\n",
    "train_corpus = [TaggedDocument(default_tokenizer(doc), [i]) for i, doc in enumerate(docs)]\n",
    "doc2vec_args[\"documents\"] = train_corpus\n",
    "\n",
    "doc2vec = Doc2Vec(**doc2vec_args)\n",
    "doc2vec.save(\"doc2vec_test.model\")"
   ]
  },
  {
   "cell_type": "code",
   "execution_count": 47,
   "metadata": {},
   "outputs": [
    {
     "name": "stderr",
     "output_type": "stream",
     "text": [
      "2024-03-07 08:28:32,805 - top2vec - INFO - Pre-processing documents for training\n",
      "/usr/local/lib/python3.9/dist-packages/sklearn/feature_extraction/text.py:525: UserWarning: The parameter 'token_pattern' will not be used since 'tokenizer' is not None'\n",
      "  warnings.warn(\n",
      "2024-03-07 08:28:32,894 - top2vec - INFO - Creating joint document/word embedding\n"
     ]
    }
   ],
   "source": [
    "doc2vec = Doc2Vec.load(\"doc2vec_test.model\")\n",
    "top2vec = Top2Vec.run(documents=docs, config_modifier={\"embedding_model\": doc2vec.infer_vector, \"phases\": [\"create_embeddings\"]})"
   ]
  },
  {
   "cell_type": "code",
   "execution_count": 52,
   "metadata": {},
   "outputs": [
    {
     "data": {
      "text/plain": [
       "(9, 300)"
      ]
     },
     "execution_count": 52,
     "metadata": {},
     "output_type": "execute_result"
    }
   ],
   "source": [
    "b.word_vectors.shape"
   ]
  },
  {
   "cell_type": "code",
   "execution_count": 57,
   "metadata": {},
   "outputs": [
    {
     "data": {
      "text/plain": [
       "(18, 300)"
      ]
     },
     "execution_count": 57,
     "metadata": {},
     "output_type": "execute_result"
    }
   ],
   "source": [
    "top2vec.document_vectors.shape"
   ]
  },
  {
   "cell_type": "code",
   "execution_count": 53,
   "metadata": {},
   "outputs": [
    {
     "name": "stderr",
     "output_type": "stream",
     "text": [
      "2024-03-07 08:32:57,644 - top2vec - INFO - Pre-processing documents for training\n",
      "/usr/local/lib/python3.9/dist-packages/sklearn/feature_extraction/text.py:525: UserWarning: The parameter 'token_pattern' will not be used since 'tokenizer' is not None'\n",
      "  warnings.warn(\n",
      "2024-03-07 08:32:57,722 - top2vec - INFO - Downloading universal-sentence-encoder model\n",
      "2024-03-07 08:32:57.773778: I tensorflow/compiler/xla/stream_executor/cuda/cuda_gpu_executor.cc:894] successful NUMA node read from SysFS had negative value (-1), but there must be at least one NUMA node, so returning NUMA node zero. See more at https://github.com/torvalds/linux/blob/v6.0/Documentation/ABI/testing/sysfs-bus-pci#L344-L355\n",
      "2024-03-07 08:32:57.777095: I tensorflow/compiler/xla/stream_executor/cuda/cuda_gpu_executor.cc:894] successful NUMA node read from SysFS had negative value (-1), but there must be at least one NUMA node, so returning NUMA node zero. See more at https://github.com/torvalds/linux/blob/v6.0/Documentation/ABI/testing/sysfs-bus-pci#L344-L355\n",
      "2024-03-07 08:32:57.777399: I tensorflow/compiler/xla/stream_executor/cuda/cuda_gpu_executor.cc:894] successful NUMA node read from SysFS had negative value (-1), but there must be at least one NUMA node, so returning NUMA node zero. See more at https://github.com/torvalds/linux/blob/v6.0/Documentation/ABI/testing/sysfs-bus-pci#L344-L355\n",
      "2024-03-07 08:32:57.778171: I tensorflow/compiler/xla/stream_executor/cuda/cuda_gpu_executor.cc:894] successful NUMA node read from SysFS had negative value (-1), but there must be at least one NUMA node, so returning NUMA node zero. See more at https://github.com/torvalds/linux/blob/v6.0/Documentation/ABI/testing/sysfs-bus-pci#L344-L355\n",
      "2024-03-07 08:32:57.778448: I tensorflow/compiler/xla/stream_executor/cuda/cuda_gpu_executor.cc:894] successful NUMA node read from SysFS had negative value (-1), but there must be at least one NUMA node, so returning NUMA node zero. See more at https://github.com/torvalds/linux/blob/v6.0/Documentation/ABI/testing/sysfs-bus-pci#L344-L355\n",
      "2024-03-07 08:32:57.778709: I tensorflow/compiler/xla/stream_executor/cuda/cuda_gpu_executor.cc:894] successful NUMA node read from SysFS had negative value (-1), but there must be at least one NUMA node, so returning NUMA node zero. See more at https://github.com/torvalds/linux/blob/v6.0/Documentation/ABI/testing/sysfs-bus-pci#L344-L355\n",
      "2024-03-07 08:32:58.084659: I tensorflow/compiler/xla/stream_executor/cuda/cuda_gpu_executor.cc:894] successful NUMA node read from SysFS had negative value (-1), but there must be at least one NUMA node, so returning NUMA node zero. See more at https://github.com/torvalds/linux/blob/v6.0/Documentation/ABI/testing/sysfs-bus-pci#L344-L355\n",
      "2024-03-07 08:32:58.084937: I tensorflow/compiler/xla/stream_executor/cuda/cuda_gpu_executor.cc:894] successful NUMA node read from SysFS had negative value (-1), but there must be at least one NUMA node, so returning NUMA node zero. See more at https://github.com/torvalds/linux/blob/v6.0/Documentation/ABI/testing/sysfs-bus-pci#L344-L355\n",
      "2024-03-07 08:32:58.085177: I tensorflow/compiler/xla/stream_executor/cuda/cuda_gpu_executor.cc:894] successful NUMA node read from SysFS had negative value (-1), but there must be at least one NUMA node, so returning NUMA node zero. See more at https://github.com/torvalds/linux/blob/v6.0/Documentation/ABI/testing/sysfs-bus-pci#L344-L355\n",
      "2024-03-07 08:32:58.085391: I tensorflow/core/common_runtime/gpu/gpu_device.cc:1886] Created device /job:localhost/replica:0/task:0/device:GPU:0 with 3837 MB memory:  -> device: 0, name: NVIDIA GeForce GTX 980 Ti, pci bus id: 0000:06:00.0, compute capability: 5.2\n",
      "2024-03-07 08:33:00,119 - top2vec - INFO - Creating joint document/word embedding\n",
      "INFO:top2vec:Creating joint document/word embedding\n",
      "2024-03-07 08:33:00.342432: I tensorflow/tsl/platform/default/subprocess.cc:304] Start cannot spawn child process: No such file or directory\n"
     ]
    }
   ],
   "source": [
    "top2vec_use = Top2Vec.run(documents=docs, config_modifier={\"embedding_model\": \"universal-sentence-encoder\", \"phases\": [\"create_embeddings\"]})\n"
   ]
  },
  {
   "cell_type": "code",
   "execution_count": 56,
   "metadata": {},
   "outputs": [
    {
     "data": {
      "text/plain": [
       "(560, 512)"
      ]
     },
     "execution_count": 56,
     "metadata": {},
     "output_type": "execute_result"
    }
   ],
   "source": [
    "top2vec_use.document_vectors.shape"
   ]
  }
 ],
 "metadata": {
  "kernelspec": {
   "display_name": "Python 3",
   "language": "python",
   "name": "python3"
  },
  "language_info": {
   "codemirror_mode": {
    "name": "ipython",
    "version": 3
   },
   "file_extension": ".py",
   "mimetype": "text/x-python",
   "name": "python",
   "nbconvert_exporter": "python",
   "pygments_lexer": "ipython3",
   "version": "3.9.2"
  },
  "vscode": {
   "interpreter": {
    "hash": "916dbcbb3f70747c44a77c7bcd40155683ae19c65e1c03b4aa3499c5328201f1"
   }
  }
 },
 "nbformat": 4,
 "nbformat_minor": 2
}
