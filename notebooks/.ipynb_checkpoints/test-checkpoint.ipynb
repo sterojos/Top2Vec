{
 "cells": [
  {
   "cell_type": "code",
   "execution_count": 1,
   "metadata": {},
   "outputs": [],
   "source": [
    "import random\n",
    "from top2vec_modified import Top2Vec\n",
    "import yaml\n",
    "\n",
    "def generate_docs(length=50, rep=20):\n",
    "    vocabs = [\n",
    "        [\"lorem\", \"ipsum\", \"dolor\"],\n",
    "        [\"lorem\", \"sit\", \"amet\"],\n",
    "        [\"lorem\", \"sit\", \"adipiscing\", \"eiusmod\"],\n",
    "        [\"lorem\", \"consectetur\", \"adipiscing\"],\n",
    "        [\"lorem\", \"consectetur\", \"elit\"],\n",
    "        [\"lorem\", \"consectetur\", \"eiusmod\"],\n",
    "        [\"lorem\", \"consectetur\", \"eiusmod\"],\n",
    "    ]\n",
    "\n",
    "    return [\" \".join(random.choice(vocab) for _ in range(length)) for _ in range(rep) for vocab in vocabs]"
   ]
  },
  {
   "cell_type": "code",
   "execution_count": 2,
   "metadata": {},
   "outputs": [
    {
     "ename": "FileNotFoundError",
     "evalue": "[Errno 2] No such file or directory: 'top2vec_modified/Top2Vec_config.yaml'",
     "output_type": "error",
     "traceback": [
      "\u001b[0;31m---------------------------------------------------------------------------\u001b[0m",
      "\u001b[0;31mFileNotFoundError\u001b[0m                         Traceback (most recent call last)",
      "\u001b[0;32m<ipython-input-2-720c1819137d>\u001b[0m in \u001b[0;36m<module>\u001b[0;34m\u001b[0m\n\u001b[0;32m----> 1\u001b[0;31m \u001b[0;32mwith\u001b[0m \u001b[0mopen\u001b[0m\u001b[0;34m(\u001b[0m\u001b[0;34m\"top2vec_modified/Top2Vec_config.yaml\"\u001b[0m\u001b[0;34m)\u001b[0m \u001b[0;32mas\u001b[0m \u001b[0mf\u001b[0m\u001b[0;34m:\u001b[0m\u001b[0;34m\u001b[0m\u001b[0;34m\u001b[0m\u001b[0m\n\u001b[0m\u001b[1;32m      2\u001b[0m     \u001b[0mconfig\u001b[0m \u001b[0;34m=\u001b[0m \u001b[0myaml\u001b[0m\u001b[0;34m.\u001b[0m\u001b[0msafe_load\u001b[0m\u001b[0;34m(\u001b[0m\u001b[0mf\u001b[0m\u001b[0;34m)\u001b[0m\u001b[0;34m\u001b[0m\u001b[0;34m\u001b[0m\u001b[0m\n\u001b[1;32m      3\u001b[0m \u001b[0;34m\u001b[0m\u001b[0m\n\u001b[1;32m      4\u001b[0m \u001b[0mdocs\u001b[0m \u001b[0;34m=\u001b[0m \u001b[0mgenerate_docs\u001b[0m\u001b[0;34m(\u001b[0m\u001b[0;34m)\u001b[0m\u001b[0;34m\u001b[0m\u001b[0;34m\u001b[0m\u001b[0m\n\u001b[1;32m      5\u001b[0m \u001b[0;34m\u001b[0m\u001b[0m\n",
      "\u001b[0;31mFileNotFoundError\u001b[0m: [Errno 2] No such file or directory: 'top2vec_modified/Top2Vec_config.yaml'"
     ]
    }
   ],
   "source": [
    "\n",
    "with open(\"top2vec_modified/Top2Vec_config.yaml\") as f:\n",
    "    config = yaml.safe_load(f)\n",
    "\n",
    "docs = generate_docs()\n",
    "\n",
    "config.update({\"use_pacmap\": True, \"dimred_args\": {}})\n",
    "#config.update({\"embedding_model\": \"universal-sentence-encoder\"})\n",
    "\n",
    "#model = Top2Vec(documents=docs, **config, plain=False)"
   ]
  },
  {
   "cell_type": "code",
   "execution_count": 3,
   "metadata": {},
   "outputs": [
    {
     "name": "stderr",
     "output_type": "stream",
     "text": [
      "2024-03-04 13:09:03,946 - top2vec - INFO - Pre-processing documents for training\n",
      "2024-03-04 13:09:03,980 - top2vec - INFO - Creating joint document/word embedding\n",
      "2024-03-04 13:09:04,559 - top2vec - INFO - Creating lower dimension embedding of documents\n",
      "2024-03-04 13:09:17,301 - top2vec - INFO - Finding dense areas of documents\n"
     ]
    }
   ],
   "source": [
    "docs = generate_docs()\n",
    "a = Top2Vec.run(documents=docs, config_modifier={\"phases\": [\"create_embeddings\"]})\n",
    "a.save(\"test_model.model\")"
   ]
  },
  {
   "cell_type": "code",
   "execution_count": 9,
   "metadata": {},
   "outputs": [
    {
     "name": "stderr",
     "output_type": "stream",
     "text": [
      "2024-03-04 13:10:07,189 - top2vec - INFO - Finding topics\n"
     ]
    }
   ],
   "source": [
    "b = Top2Vec.run(from_model_path='test_model.model', config_modifier={\"phases\": [\"discover_topics\", \"reduce_dimension\"]})"
   ]
  },
  {
   "cell_type": "code",
   "execution_count": 19,
   "metadata": {},
   "outputs": [
    {
     "data": {
      "text/plain": [
       "['ngram_vocab_args',\n",
       " 'embedding_model_path',\n",
       " 'dimred_args',\n",
       " 'keep_documents',\n",
       " 'chunk_overlap_ratio',\n",
       " 'workers',\n",
       " 'use_corpus_file',\n",
       " 'topic_merge_delta',\n",
       " 'hdbscan_args',\n",
       " 'verbose',\n",
       " 'sentencizer',\n",
       " 'document_ids',\n",
       " 'gpu_umap',\n",
       " 'document_chunker',\n",
       " 'embedding_batch_size',\n",
       " 'gpu_hdbscan',\n",
       " 'speed',\n",
       " 'index_topics',\n",
       " 'min_count',\n",
       " 'chunk_len_coverage_ratio',\n",
       " 'ngram_vocab',\n",
       " 'max_num_chunks',\n",
       " 'tokenizer',\n",
       " 'chunk_length',\n",
       " 'use_embedding_model_tokenizer',\n",
       " 'embedding_model']"
      ]
     },
     "execution_count": 19,
     "metadata": {},
     "output_type": "execute_result"
    }
   ],
   "source": [
    "phases = ['reduce_dimension', 'discover_topics']\n",
    "\n",
    "list(set([i for v in a[\"phases\"].values() for i in v]))"
   ]
  }
 ],
 "metadata": {
  "kernelspec": {
   "display_name": "Python 3",
   "language": "python",
   "name": "python3"
  },
  "language_info": {
   "codemirror_mode": {
    "name": "ipython",
    "version": 3
   },
   "file_extension": ".py",
   "mimetype": "text/x-python",
   "name": "python",
   "nbconvert_exporter": "python",
   "pygments_lexer": "ipython3",
   "version": "3.9.2"
  },
  "vscode": {
   "interpreter": {
    "hash": "916dbcbb3f70747c44a77c7bcd40155683ae19c65e1c03b4aa3499c5328201f1"
   }
  }
 },
 "nbformat": 4,
 "nbformat_minor": 2
}
